{
 "cells": [
  {
   "cell_type": "code",
   "execution_count": 6,
   "metadata": {},
   "outputs": [
    {
     "name": "stdout",
     "output_type": "stream",
     "text": [
      "All Predictions:\n",
      "Leo {'Best Picture': 'American Fiction – Ben LeClair, Nikos Karamigios, Cord Jefferson and Jermaine Johnson, producers', 'Best Director': 'Martin Scorsese – Killers of the Flower Moon'}\n",
      "jean {'Best Picture': 'Barbie – David Heyman, Margot Robbie, Tom Ackerley and Robbie Brenner, producers', 'Best Director': 'Justine Triet – Anatomy of a Fall'}\n",
      "No prediction found for user test.\n"
     ]
    }
   ],
   "source": [
    "from flask import Flask\n",
    "from flask_sqlalchemy import SQLAlchemy\n",
    "\n",
    "# Create a Flask application instance\n",
    "app = Flask(__name__)\n",
    "app.config['SQLALCHEMY_DATABASE_URI'] = 'sqlite:///predictions.db'\n",
    "app.config['SQLALCHEMY_TRACK_MODIFICATIONS'] = False\n",
    "\n",
    "# Create a SQLAlchemy instance\n",
    "db = SQLAlchemy(app)\n",
    "\n",
    "# Define the Prediction model\n",
    "class Prediction(db.Model):\n",
    "    id = db.Column(db.Integer, primary_key=True)\n",
    "    user_name = db.Column(db.String(50), nullable=False)\n",
    "    vote_data = db.Column(db.PickleType, nullable=False)\n",
    "\n",
    "    def __repr__(self):\n",
    "        return f'<Prediction {self.user_name}>'\n",
    "\n",
    "# Function to retrieve all predictions from the database\n",
    "def get_all_predictions():\n",
    "    return Prediction.query.all()\n",
    "\n",
    "# Function to delete a prediction by user name\n",
    "def delete_prediction_by_user_name(user_name):\n",
    "    prediction = Prediction.query.filter_by(user_name=user_name).first()\n",
    "    if prediction:\n",
    "        db.session.delete(prediction)\n",
    "        db.session.commit()\n",
    "        return f\"Prediction for user {user_name} deleted successfully.\"\n",
    "    else:\n",
    "        return f\"No prediction found for user {user_name}.\"\n",
    "\n",
    "# Function to delete all predictions from the database\n",
    "def delete_all_predictions():\n",
    "    num_deleted = Prediction.query.delete()\n",
    "    db.session.commit()\n",
    "    return f\"Deleted {num_deleted} predictions.\"\n",
    "\n",
    "# Connect to the database\n",
    "with app.app_context():\n",
    "    # Example: Retrieve all predictions\n",
    "    predictions = get_all_predictions()\n",
    "    print(\"All Predictions:\")\n",
    "    for prediction in predictions:\n",
    "        print(prediction.user_name, prediction.vote_data)\n",
    "\n",
    "    # Example: Delete a prediction by user name\n",
    "    user_to_delete = \"test\"  # Replace with the actual user name\n",
    "    result = delete_prediction_by_user_name(user_to_delete)\n",
    "    print(result)\n"
   ]
  },
  {
   "cell_type": "code",
   "execution_count": null,
   "metadata": {},
   "outputs": [],
   "source": []
  }
 ],
 "metadata": {
  "kernelspec": {
   "display_name": "base",
   "language": "python",
   "name": "python3"
  },
  "language_info": {
   "codemirror_mode": {
    "name": "ipython",
    "version": 3
   },
   "file_extension": ".py",
   "mimetype": "text/x-python",
   "name": "python",
   "nbconvert_exporter": "python",
   "pygments_lexer": "ipython3",
   "version": "3.10.9"
  }
 },
 "nbformat": 4,
 "nbformat_minor": 2
}
